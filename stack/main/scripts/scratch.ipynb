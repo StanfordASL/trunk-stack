{
 "cells": [
  {
   "cell_type": "code",
   "execution_count": 4,
   "metadata": {},
   "outputs": [],
   "source": [
    "import os\n",
    "import jax\n",
    "import jax.numpy as jnp\n",
    "import numpy as np"
   ]
  },
  {
   "cell_type": "code",
   "execution_count": 2,
   "metadata": {},
   "outputs": [],
   "source": [
    "def encode(encoder_coeff, encoder_exp, y):\n",
    "    \"\"\"\n",
    "    Encode from observation to reduced state, with batch dimension last.\n",
    "    \"\"\"\n",
    "    if y.ndim == 1:\n",
    "        y = jnp.expand_dims(y, -1)\n",
    "        single_input = True\n",
    "    else:\n",
    "        single_input = False\n",
    "\n",
    "    n, n_coeff = encoder_coeff.shape\n",
    "    results = []\n",
    "\n",
    "    # Loop over each dimension to compute the reduced state\n",
    "    for dim in range(n):\n",
    "        polynomial = 0\n",
    "        for j in range(n_coeff):\n",
    "            exponents = jnp.expand_dims(encoder_exp[j, :], axis=-1)\n",
    "            term = encoder_coeff[dim, j] * jnp.prod(y ** exponents, axis=0, keepdims=True)\n",
    "            polynomial += term\n",
    "        results.append(polynomial)\n",
    "\n",
    "    x = jnp.concatenate(results, axis=0)\n",
    "\n",
    "    if single_input:\n",
    "        return x.squeeze(-1)\n",
    "    return x"
   ]
  },
  {
   "cell_type": "code",
   "execution_count": 10,
   "metadata": {},
   "outputs": [],
   "source": [
    "def decode(decoder_coeff, decoder_exp, x):\n",
    "    \"\"\"\n",
    "    Decode from reduced state to observation, with batch dimension last.\n",
    "    \"\"\"\n",
    "    if x.ndim == 1:\n",
    "        x = jnp.expand_dims(x, -1)\n",
    "        single_input = True\n",
    "    else:\n",
    "        single_input = False\n",
    "\n",
    "    p, p_coeff = decoder_coeff.shape\n",
    "    results = []\n",
    "\n",
    "    # Loop over each dimension to compute the observation\n",
    "    for obs_dim in range(p):\n",
    "        polynomial = 0\n",
    "        for j in range(p_coeff):\n",
    "            exponents = jnp.expand_dims(decoder_exp[j, :], axis=-1)\n",
    "            term = decoder_coeff[obs_dim, j] * jnp.prod(x ** exponents, axis=0, keepdims=True)\n",
    "            polynomial += term\n",
    "        results.append(polynomial)\n",
    "\n",
    "    y = jnp.concatenate(results, axis=0)\n",
    "\n",
    "    if single_input:\n",
    "        return y.squeeze(-1)\n",
    "    return y"
   ]
  },
  {
   "cell_type": "code",
   "execution_count": 12,
   "metadata": {},
   "outputs": [],
   "source": [
    "def reduced_dynamics(dynamics_coeff, dynamics_exp, x):\n",
    "    \"\"\"\n",
    "    Evaluate the continuous-time dynamics of the reduced system, with batch dimension last.\n",
    "    \"\"\"\n",
    "    if x.ndim == 1:\n",
    "        x = jnp.expand_dims(x, -1)\n",
    "        single_input = True\n",
    "    else:\n",
    "        single_input = False\n",
    "\n",
    "    n, n_coeff = dynamics_coeff.shape\n",
    "    results = []\n",
    "\n",
    "    # Loop over each dimension to compute the derivative\n",
    "    for dim in range(n):\n",
    "        polynomial = 0\n",
    "        for j in range(n_coeff):\n",
    "            exponents = jnp.expand_dims(dynamics_exp[j, :], axis=-1)\n",
    "            term = dynamics_coeff[dim, j] * jnp.prod(x ** exponents, axis=0, keepdims=True)\n",
    "            polynomial += term\n",
    "        results.append(polynomial)\n",
    "    \n",
    "    x_dot = jnp.concatenate(results, axis=0)\n",
    "\n",
    "    if single_input:\n",
    "        return x_dot.squeeze(-1)\n",
    "    return x_dot"
   ]
  },
  {
   "cell_type": "code",
   "execution_count": 7,
   "metadata": {},
   "outputs": [],
   "source": [
    "model_name = 'origin_ssmr_200g'\n",
    "data_dir = os.getenv('TRUNK_DATA', '/home/trunk/Documents/trunk-stack/stack/main/data')\n",
    "npz_filepath = os.path.join(data_dir, f'models/ssmr/{model_name}.npz')\n",
    "data = np.load(npz_filepath)\n",
    "encoder_coeff, encoder_exp = data['Vfinal'], data['exps_V']"
   ]
  },
  {
   "cell_type": "code",
   "execution_count": 9,
   "metadata": {},
   "outputs": [
    {
     "data": {
      "text/plain": [
       "Array([ 0.4902135 ,  0.74074817,  0.5681536 , -0.34081072, -0.00973913],      dtype=float32)"
      ]
     },
     "execution_count": 9,
     "metadata": {},
     "output_type": "execute_result"
    }
   ],
   "source": [
    "y = jnp.array([0.1, 0.2, -0.6, 0.2, 0.5, -0.2, 0.5, 0.8, -0.2, 0.1, 0.05, -0.1])\n",
    "xi = encode(encoder_coeff, encoder_exp, y)"
   ]
  },
  {
   "cell_type": "code",
   "execution_count": 11,
   "metadata": {},
   "outputs": [
    {
     "data": {
      "text/plain": [
       "Array([ 2.4772573e-01,  2.9616034e-01, -5.0710428e-01,  1.6720746e-01,\n",
       "        3.4380329e-01, -3.1249958e-01,  1.3570189e-01,  4.1823369e-01,\n",
       "       -2.7795431e-01,  3.5379633e-01,  5.1612693e-01, -3.8000019e-04],      dtype=float32)"
      ]
     },
     "execution_count": 11,
     "metadata": {},
     "output_type": "execute_result"
    }
   ],
   "source": [
    "decoder_coeff, decoder_exp = data['M'], data['exps']\n",
    "decode(decoder_coeff, decoder_exp, xi)"
   ]
  },
  {
   "cell_type": "code",
   "execution_count": 13,
   "metadata": {},
   "outputs": [
    {
     "data": {
      "text/plain": [
       "Array([-30.684515  ,  -1.8484488 ,  -2.1302652 ,   0.74905264,\n",
       "        -0.5363502 ], dtype=float32)"
      ]
     },
     "execution_count": 13,
     "metadata": {},
     "output_type": "execute_result"
    }
   ],
   "source": [
    "dynamics_coeff, dynamics_exp = data['R'], data['exps_r']\n",
    "reduced_dynamics(dynamics_coeff, dynamics_exp, xi)"
   ]
  },
  {
   "cell_type": "code",
   "execution_count": 15,
   "metadata": {},
   "outputs": [
    {
     "data": {
      "text/plain": [
       "Array([-0.14280866,  0.03240603, -0.25879735,  0.22471327,  0.1076438 ,\n",
       "        0.09430611], dtype=float32)"
      ]
     },
     "execution_count": 15,
     "metadata": {},
     "output_type": "execute_result"
    }
   ],
   "source": [
    "B_r = data['B_red']\n",
    "B_r.T @ xi"
   ]
  },
  {
   "cell_type": "code",
   "execution_count": null,
   "metadata": {},
   "outputs": [],
   "source": []
  }
 ],
 "metadata": {
  "kernelspec": {
   "display_name": "Python 3",
   "language": "python",
   "name": "python3"
  },
  "language_info": {
   "codemirror_mode": {
    "name": "ipython",
    "version": 3
   },
   "file_extension": ".py",
   "mimetype": "text/x-python",
   "name": "python",
   "nbconvert_exporter": "python",
   "pygments_lexer": "ipython3",
   "version": "3.10.12"
  },
  "orig_nbformat": 4
 },
 "nbformat": 4,
 "nbformat_minor": 2
}
