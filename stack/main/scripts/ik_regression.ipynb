{
 "cells": [
  {
   "cell_type": "code",
   "execution_count": null,
   "metadata": {},
   "outputs": [],
   "source": [
    "import numpy as np\n",
    "import pandas as pd\n",
    "import matplotlib.pyplot as plt"
   ]
  },
  {
   "cell_type": "code",
   "execution_count": null,
   "metadata": {},
   "outputs": [],
   "source": [
    "# Load data\n",
    "us_df = pd.read_csv('../data/trajectories/steady_state/control_inputs_uniform.csv')\n",
    "ys_df = pd.read_csv('../data/trajectories/steady_state/observations_steady_state_src_demo_17oct24.csv')\n",
    "print(us_df.head())\n",
    "print(ys_df.head())"
   ]
  },
  {
   "cell_type": "code",
   "execution_count": null,
   "metadata": {},
   "outputs": [],
   "source": [
    "# We center the data, assuming first data point is the rest (vertical) position\n",
    "# ys_df = ys_df - ys_df.iloc[0]\n",
    "rest_positions = np.array([0.1005, -0.10698, 0.10445, -0.10302, -0.20407, 0.10933, 0.10581, -0.32308, 0.10566])\n",
    "ys_df = ys_df - rest_positions"
   ]
  },
  {
   "cell_type": "code",
   "execution_count": null,
   "metadata": {},
   "outputs": [],
   "source": [
    "def set_axes_equal(ax):\n",
    "    \"\"\"\n",
    "    Make axes of 3D plot have equal scale so that spheres appear as spheres,\n",
    "    cubes as cubes, etc.\n",
    "\n",
    "    Input\n",
    "      ax: a matplotlib axis, e.g., as output from plt.gca().\n",
    "    \"\"\"\n",
    "\n",
    "    x_limits = ax.get_xlim3d()\n",
    "    y_limits = ax.get_ylim3d()\n",
    "    z_limits = ax.get_zlim3d()\n",
    "\n",
    "    x_range = abs(x_limits[1] - x_limits[0])\n",
    "    x_middle = np.mean(x_limits)\n",
    "    y_range = abs(y_limits[1] - y_limits[0])\n",
    "    y_middle = np.mean(y_limits)\n",
    "    z_range = abs(z_limits[1] - z_limits[0])\n",
    "    z_middle = np.mean(z_limits)\n",
    "\n",
    "    # The plot bounding box is a sphere in the sense of the infinity\n",
    "    # norm, hence I call half the max range the plot radius.\n",
    "    plot_radius = 0.5*max([x_range, y_range, z_range])\n",
    "\n",
    "    ax.set_xlim3d([x_middle - plot_radius, x_middle + plot_radius])\n",
    "    ax.set_ylim3d([y_middle - plot_radius, y_middle + plot_radius])\n",
    "    ax.set_zlim3d([z_middle - plot_radius, z_middle + plot_radius])"
   ]
  },
  {
   "cell_type": "code",
   "execution_count": null,
   "metadata": {},
   "outputs": [],
   "source": [
    "# Visualize data points\n",
    "plt.close('all')\n",
    "\n",
    "# Enable the ipympl backend for interactive plots\n",
    "# %matplotlib widget\n",
    "\n",
    "z_dataframes = [ys_df]\n",
    "position_colors = ['r', 'b', 'g']\n",
    "\n",
    "fig = plt.figure()\n",
    "ax = fig.add_subplot(111, projection='3d')\n",
    "for z_df in z_dataframes:\n",
    "    x1, y1, z1 = z_df['x1'], z_df['y1'], z_df['z1']\n",
    "    x2, y2, z2 = z_df['x2'], z_df['y2'], z_df['z2']\n",
    "    x3, y3, z3 = z_df['x3'], z_df['y3'], z_df['z3']\n",
    "    ax.scatter(x1, y1, z1, color=position_colors[0], label='Position 1', alpha=0.6)\n",
    "    ax.scatter(x2, y2, z2, color=position_colors[1], label='Position 2', alpha=0.6)\n",
    "    ax.scatter(x3, y3, z3, color=position_colors[2], label='Position 3', alpha=0.6)\n",
    "ax.set_xlabel('X axis')\n",
    "ax.set_ylabel('Y axis')\n",
    "ax.set_zlabel('Z axis')\n",
    "ax.legend()\n",
    "set_axes_equal(ax)"
   ]
  },
  {
   "cell_type": "code",
   "execution_count": null,
   "metadata": {},
   "outputs": [],
   "source": [
    "# Convert to numpy\n",
    "ys = ys_df.to_numpy()\n",
    "n = ys.shape[0]\n",
    "us = us_df.to_numpy()[:n, 1:]\n",
    "\n",
    "# Split in train and test data\n",
    "n_train = int(n * 0.85)\n",
    "n_test = n - n_train\n",
    "\n",
    "us_train = us[:n_train]\n",
    "us_test = us[n_train:]\n",
    "\n",
    "ys_train = ys[:n_train]\n",
    "ys_test = ys[n_train:]"
   ]
  },
  {
   "cell_type": "markdown",
   "metadata": {},
   "source": [
    "# Find mapping $G$ from $y$ to $u$"
   ]
  },
  {
   "cell_type": "code",
   "execution_count": null,
   "metadata": {},
   "outputs": [],
   "source": [
    "# Simple least squares to find G in u = G*y\n",
    "G = np.linalg.lstsq(ys_train, us_train, rcond=None)[0].T\n",
    "\n",
    "# Save G\n",
    "np.save('../data/models/ik/y2u_src_demo.npy', G)"
   ]
  },
  {
   "cell_type": "code",
   "execution_count": null,
   "metadata": {},
   "outputs": [],
   "source": [
    "# Predict u_test using the learned G\n",
    "us_pred = ys_test @ G.T"
   ]
  },
  {
   "cell_type": "code",
   "execution_count": null,
   "metadata": {},
   "outputs": [],
   "source": [
    "# Calculate the Root Mean Squared Error (RMSE)\n",
    "rmse = np.sqrt(np.mean(np.square(us_test - us_pred)))\n",
    "print(f\"Root Mean Squared Error on the test data: {rmse}\")"
   ]
  },
  {
   "cell_type": "code",
   "execution_count": null,
   "metadata": {},
   "outputs": [],
   "source": [
    "# Mean absolute error\n",
    "mae = np.mean(np.abs(us_test - us_pred))\n",
    "print(f\"Mean Absolute Error on the test data: {mae}\")"
   ]
  },
  {
   "cell_type": "code",
   "execution_count": null,
   "metadata": {},
   "outputs": [],
   "source": [
    "# For sense of scale, calculate the mean of |us|\n",
    "mean_control_input = np.mean(np.abs(us))\n",
    "print(f\"Mean of the control inputs: {mean_control_input}\")"
   ]
  },
  {
   "cell_type": "markdown",
   "metadata": {},
   "source": [
    "# Find mapping $H$ from $u$ to $y$"
   ]
  },
  {
   "cell_type": "code",
   "execution_count": null,
   "metadata": {},
   "outputs": [],
   "source": [
    "# Simple least squares to find H in u = G*y\n",
    "H = np.linalg.lstsq(us_train, ys_train, rcond=None)[0].T\n",
    "\n",
    "# Save H\n",
    "np.save('../data/models/ik/u2y.npy', H)"
   ]
  },
  {
   "cell_type": "code",
   "execution_count": null,
   "metadata": {},
   "outputs": [],
   "source": [
    "ys_pred = us_test @ H.T"
   ]
  },
  {
   "cell_type": "code",
   "execution_count": null,
   "metadata": {},
   "outputs": [],
   "source": [
    "ys_pred.shape"
   ]
  },
  {
   "cell_type": "code",
   "execution_count": null,
   "metadata": {},
   "outputs": [],
   "source": [
    "rmse = np.sqrt(np.mean(np.square(ys_test - ys_pred)))\n",
    "print(f\"Root Mean Squared Error on the test data: {rmse}\")"
   ]
  },
  {
   "cell_type": "code",
   "execution_count": null,
   "metadata": {},
   "outputs": [],
   "source": [
    "# Visualize data points\n",
    "plt.close('all')\n",
    "\n",
    "# Enable the ipympl backend for interactive plots\n",
    "%matplotlib widget\n",
    "\n",
    "# position_colors = ['r', 'b', 'g']\n",
    "\n",
    "fig = plt.figure()\n",
    "ax = fig.add_subplot(111, projection='3d')\n",
    "for i in range(len(ys_pred)):\n",
    "    # x1, y1, z1, x2, y2, z2, x3, y3, z3 = ys_test[i]\n",
    "    # ax.scatter(x1, y1, z1, color=position_colors[0], label='Test', alpha=0.6)\n",
    "    # x1, y1, z1, x2, y2, z2, x3, y3, z3 = ys_pred[i]\n",
    "    # ax.scatter(x1, y1, z1, color=position_colors[1], label='Pred', alpha=0.6)\n",
    "    x1, y1, z1, x2, y2, z2, x3, y3, z3 = ys_test[i]\n",
    "    ax.scatter(x2, y2, z2, color=position_colors[0], label='Test', alpha=0.6)\n",
    "    x1, y1, z1, x2, y2, z2, x3, y3, z3 = ys_pred[i]\n",
    "    ax.scatter(x2, y2, z2, color=position_colors[1], label='Pred', alpha=0.6)\n",
    "\n",
    "\n",
    "    # ax.scatter(x2, y2, z2, color=position_colors[1], label='Position 2', alpha=0.6)\n",
    "    # ax.scatter(x3, y3, z3, color=position_colors[2], label='Position 3', alpha=0.6)\n",
    "ax.set_xlabel('X axis')\n",
    "ax.set_ylabel('Y axis')\n",
    "ax.set_zlabel('Z axis')\n",
    "# ax.legend()\n",
    "set_axes_equal(ax)"
   ]
  },
  {
   "cell_type": "code",
   "execution_count": null,
   "metadata": {},
   "outputs": [],
   "source": []
  }
 ],
 "metadata": {
  "kernelspec": {
   "display_name": "assmr",
   "language": "python",
   "name": "python3"
  },
  "language_info": {
   "codemirror_mode": {
    "name": "ipython",
    "version": 3
   },
   "file_extension": ".py",
   "mimetype": "text/x-python",
   "name": "python",
   "nbconvert_exporter": "python",
   "pygments_lexer": "ipython3",
   "version": "3.10.12"
  }
 },
 "nbformat": 4,
 "nbformat_minor": 2
}
